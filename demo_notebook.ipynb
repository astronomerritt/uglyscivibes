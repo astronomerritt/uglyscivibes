{
 "cells": [
  {
   "cell_type": "code",
   "execution_count": 1,
   "metadata": {},
   "outputs": [],
   "source": [
    "import string\n",
    "import ads"
   ]
  },
  {
   "cell_type": "code",
   "execution_count": 2,
   "metadata": {},
   "outputs": [],
   "source": [
    "ads.config.token = 'tVMB0TgzQmmwxI6q3TfSrNRMqis5KmvK5C2nDq7s'\n",
    "\n",
    "def get_abstract_words(author_ORCID):\n",
    "  \"\"\"Returns a list of every single word in the abstracts of the author.\n",
    "  \"\"\"\n",
    "\n",
    "  papers = list(ads.SearchQuery(orcid=author_ORCID))\n",
    "\n",
    "\n",
    "  # the below returns a list of lists...\n",
    "  abstracts = [abst for abst in abstracts if abst]\n",
    "\n",
    "  # ...and this removes empty abstracts...\n",
    "  allabs = [abstract.split(\" \") for abstract in abstracts]\n",
    "\n",
    "  allabs = [f.abstract.split(\" \") for f in papers]\n",
    "  \n",
    "  # ...and this flattens the list.\n",
    "  flat_abslist = [item for sublist in allabs for item in sublist]\n",
    "\n",
    "  # let's remove punctuation\n",
    "  # basically goes through each letter of each word and joins/'allows' it if it isn't in the string.punctuation list\n",
    "  nopunc_abslist = [\"\".join(letter for letter in word if letter not in string.punctuation) for word in flat_abslist]\n",
    "\n",
    "  # and lowercase...\n",
    "  lower_abslist = [word.lower() for word in nopunc_abslist]\n",
    "\n",
    "  return lower_abslist"
   ]
  },
  {
   "cell_type": "code",
   "execution_count": 47,
   "metadata": {},
   "outputs": [],
   "source": [
    "papers = list(ads.SearchQuery(orcid=\"0000-0003-4365-1455\"))"
   ]
  },
  {
   "cell_type": "code",
   "execution_count": 48,
   "metadata": {},
   "outputs": [
    {
     "name": "stderr",
     "output_type": "stream",
     "text": [
      "/opt/miniconda3/envs/codeastro/lib/python3.10/site-packages/ads/utils.py:26: UserWarning: You are lazy loading attributes via 'abstract', and so are making multiple calls to the API. This will impact your overall rate limits.\n",
      "  warnings.warn(\n"
     ]
    }
   ],
   "source": [
    "abstracts = [paper.abstract for paper in papers]"
   ]
  },
  {
   "cell_type": "code",
   "execution_count": 13,
   "metadata": {},
   "outputs": [],
   "source": [
    "if \"\" in abstracts:\n",
    "    print(\"empty\")"
   ]
  },
  {
   "cell_type": "code",
   "execution_count": 50,
   "metadata": {},
   "outputs": [],
   "source": [
    "abstracts = [abst for abst in abstracts if abst]"
   ]
  },
  {
   "cell_type": "code",
   "execution_count": 12,
   "metadata": {},
   "outputs": [],
   "source": [
    "if \"\" in abstracts:\n",
    "    print(\"empty\")"
   ]
  },
  {
   "cell_type": "code",
   "execution_count": 45,
   "metadata": {},
   "outputs": [
    {
     "data": {
      "text/plain": [
       "25"
      ]
     },
     "execution_count": 45,
     "metadata": {},
     "output_type": "execute_result"
    }
   ],
   "source": [
    "len(abstracts)"
   ]
  },
  {
   "cell_type": "code",
   "execution_count": 51,
   "metadata": {},
   "outputs": [],
   "source": [
    "allabs = [abstract.split(\" \") for abstract in abstracts]"
   ]
  },
  {
   "cell_type": "code",
   "execution_count": 52,
   "metadata": {},
   "outputs": [
    {
     "data": {
      "text/plain": [
       "25"
      ]
     },
     "execution_count": 52,
     "metadata": {},
     "output_type": "execute_result"
    }
   ],
   "source": [
    "len(allabs)"
   ]
  },
  {
   "cell_type": "code",
   "execution_count": 53,
   "metadata": {},
   "outputs": [],
   "source": [
    "flat_abslist = [item for sublist in allabs for item in sublist]"
   ]
  },
  {
   "cell_type": "code",
   "execution_count": 54,
   "metadata": {},
   "outputs": [],
   "source": [
    "nopunc_abslist = [\"\".join(letter for letter in word if letter not in string.punctuation) for word in flat_abslist]"
   ]
  },
  {
   "cell_type": "code",
   "execution_count": 55,
   "metadata": {},
   "outputs": [],
   "source": [
    " lower_abslist = [word.lower() for word in nopunc_abslist]"
   ]
  },
  {
   "cell_type": "code",
   "execution_count": 56,
   "metadata": {},
   "outputs": [
    {
     "data": {
      "text/plain": [
       "5470"
      ]
     },
     "execution_count": 56,
     "metadata": {},
     "output_type": "execute_result"
    }
   ],
   "source": [
    "len(lower_abslist)"
   ]
  },
  {
   "cell_type": "code",
   "execution_count": null,
   "metadata": {},
   "outputs": [],
   "source": []
  }
 ],
 "metadata": {
  "kernelspec": {
   "display_name": "Python 3.10.4 ('codeastro')",
   "language": "python",
   "name": "python3"
  },
  "language_info": {
   "codemirror_mode": {
    "name": "ipython",
    "version": 3
   },
   "file_extension": ".py",
   "mimetype": "text/x-python",
   "name": "python",
   "nbconvert_exporter": "python",
   "pygments_lexer": "ipython3",
   "version": "3.10.4"
  },
  "orig_nbformat": 4,
  "vscode": {
   "interpreter": {
    "hash": "304d8819a21e459bc0d3068e5c6eeb243ded4f3895e9682b7a93012a798ad6c8"
   }
  }
 },
 "nbformat": 4,
 "nbformat_minor": 2
}
