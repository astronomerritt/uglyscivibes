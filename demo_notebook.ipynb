{
 "cells": [
  {
   "cell_type": "code",
   "execution_count": 6,
   "metadata": {},
   "outputs": [],
   "source": [
    "import string\n",
    "import ads\n",
    "import pandas as pd\n",
    "import glob\n",
    "import os \n",
    "import operator \n",
    "\n",
    "from absvibes import get_abstract_words, vibe_check, total_vibe_check\n"
   ]
  },
  {
   "cell_type": "code",
   "execution_count": 2,
   "metadata": {},
   "outputs": [],
   "source": [
    "# please put your own ADS API token here :)\n",
    "ads.config.token = 'tVMB0TgzQmmwxI6q3TfSrNRMqis5KmvK5C2nDq7s'"
   ]
  },
  {
   "cell_type": "code",
   "execution_count": 3,
   "metadata": {},
   "outputs": [],
   "source": [
    "# this is the ORCID of the author you want the vibes for\n",
    "author_ORCID = \"0000-0003-4365-1455\""
   ]
  },
  {
   "cell_type": "code",
   "execution_count": 4,
   "metadata": {},
   "outputs": [
    {
     "name": "stderr",
     "output_type": "stream",
     "text": [
      "/usr/local/anaconda3/envs/codeastro/lib/python3.10/site-packages/ads/utils.py:26: UserWarning: You are lazy loading attributes via 'abstract', and so are making multiple calls to the API. This will impact your overall rate limits.\n",
      "  warnings.warn(\n"
     ]
    }
   ],
   "source": [
    "# this gets a list of all words in all abstracts with that author\n",
    "# if the author has a lot of papers this will take a while :)\n",
    "new_wordlist = get_abstract_words(author_ORCID)"
   ]
  },
  {
   "cell_type": "code",
   "execution_count": 5,
   "metadata": {},
   "outputs": [
    {
     "data": {
      "text/plain": [
       "367"
      ]
     },
     "execution_count": 5,
     "metadata": {},
     "output_type": "execute_result"
    }
   ],
   "source": [
    "# example of how to check a singular reddit vibe based on abstract words\n",
    "\n",
    "# stop words copied from nltk: https://gist.github.com/sebleier/554280\n",
    "stop_terms = [\"i\", \"me\", \"my\", \"myself\", \"we\", \"our\", \"ours\", \"ourselves\", \"you\", \"your\", \"yours\", \"yourself\", \"yourselves\", \"he\", \"him\", \"his\", \"himself\", \"she\", \"her\", \"hers\", \"herself\", \"it\", \"its\", \"itself\", \"they\", \"them\", \"their\", \"theirs\", \"themselves\", \"what\", \"which\", \"who\", \"whom\", \"this\", \"that\", \"these\", \"those\", \"am\", \"is\", \"are\", \"was\", \"were\", \"be\", \"been\", \"being\", \"have\", \"has\", \"had\", \"having\", \"do\", \"does\", \"did\", \"doing\", \"a\", \"an\", \"the\", \"and\", \"but\", \"if\", \"or\", \"because\", \"as\", \"until\", \"while\", \"of\", \"at\", \"by\", \"for\", \"with\", \"about\", \"against\", \"between\", \"into\", \"through\", \"during\", \"before\", \"after\", \"above\", \"below\", \"to\", \"from\", \"up\", \"down\", \"in\", \"out\", \"on\", \"off\", \"over\", \"under\", \"again\", \"further\", \"then\", \"once\", \"here\", \"there\", \"when\", \"where\", \"why\", \"how\", \"all\", \"any\", \"both\", \"each\", \"few\", \"more\", \"most\", \"other\", \"some\", \"such\", \"no\", \"nor\", \"not\", \"only\", \"own\", \"same\", \"so\", \"than\", \"too\", \"very\", \"s\", \"t\", \"can\", \"will\", \"just\", \"don\", \"should\", \"now\"]\n",
    "\n",
    "vibe_check(new_wordlist, stop_terms, \"anime\")"
   ]
  },
  {
   "cell_type": "code",
   "execution_count": 7,
   "metadata": {},
   "outputs": [
    {
     "data": {
      "text/plain": [
       "[[('anime', 367), ('musical', 445), ('science', 451)],\n",
       " [('cringe', -71), ('Tumblr', -56), ('wholesome', -51)]]"
      ]
     },
     "execution_count": 7,
     "metadata": {},
     "output_type": "execute_result"
    }
   ],
   "source": [
    "# example of how to do many vibe checks\n",
    "\n",
    "# grab all the subreddit names\n",
    "subreddits = [os.path.basename(x[:-4]) for x in glob.glob('subreddits/*.tsv')]\n",
    "\n",
    "# dictionary of subreddits to vibes\n",
    "reddit2vibe = {\n",
    "    'Anarcho_Capitalism': 'anarcho-capitalist',\n",
    "    'anime': 'anime',\n",
    "    'aww': 'cute',\n",
    "    'comicbooks': 'geeky',\n",
    "    'DnD': 'fantasy',\n",
    "    'Frozen': 'Disney',\n",
    "    'ImGoingToHellForThis' : 'cursed',\n",
    "    'science' : 'science',\n",
    "    'sports' : 'jock',\n",
    "    'TheLastAirbender' : 'wholesome',\n",
    "    'unitedkingdom' : 'British',\n",
    "    'funny' : 'funny',\n",
    "    'Music': 'musical',\n",
    "    'TumblrInAction' : 'Tumblr',\n",
    "    'cringe' : 'cringe'\n",
    "}\n",
    "\n",
    "total_vibe_check(new_wordlist, stop_terms, subreddits, reddit2vibe)"
   ]
  }
 ],
 "metadata": {
  "kernelspec": {
   "display_name": "Python 3.10.4 ('codeastro')",
   "language": "python",
   "name": "python3"
  },
  "language_info": {
   "codemirror_mode": {
    "name": "ipython",
    "version": 3
   },
   "file_extension": ".py",
   "mimetype": "text/x-python",
   "name": "python",
   "nbconvert_exporter": "python",
   "pygments_lexer": "ipython3",
   "version": "3.10.4"
  },
  "orig_nbformat": 4,
  "vscode": {
   "interpreter": {
    "hash": "9d14102eb213a542ddf53f5d67689adbd53d59718896eaf8afc797eb419f0899"
   }
  }
 },
 "nbformat": 4,
 "nbformat_minor": 2
}
