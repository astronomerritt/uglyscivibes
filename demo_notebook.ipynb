{
 "cells": [
  {
   "cell_type": "code",
   "execution_count": 34,
   "metadata": {},
   "outputs": [],
   "source": [
    "import string\n",
    "import ads\n",
    "import scivibes\n",
    "import glob\n",
    "import json"
   ]
  },
  {
   "cell_type": "code",
   "execution_count": 35,
   "metadata": {},
   "outputs": [],
   "source": [
    "# please put your own ADS API token here :)\n",
    "ads.config.token = 'tVMB0TgzQmmwxI6q3TfSrNRMqis5KmvK5C2nDq7s'"
   ]
  },
  {
   "cell_type": "code",
   "execution_count": 36,
   "metadata": {},
   "outputs": [],
   "source": [
    "# this is the ORCID of the author you want the vibes for\n",
    "author_ORCID = \"0000-0001-5930-2829\""
   ]
  },
  {
   "cell_type": "code",
   "execution_count": 37,
   "metadata": {},
   "outputs": [
    {
     "name": "stderr",
     "output_type": "stream",
     "text": [
      "/usr/local/anaconda3/envs/codeastro/lib/python3.10/site-packages/ads/utils.py:26: UserWarning: You are lazy loading attributes via 'abstract', and so are making multiple calls to the API. This will impact your overall rate limits.\n",
      "  warnings.warn(\n"
     ]
    }
   ],
   "source": [
    "# this gets a list of all words in all abstracts with that author\n",
    "# if the author has a lot of papers this will take a while :)\n",
    "new_wordlist = scivibes.get_abstract_words(author_ORCID)"
   ]
  },
  {
   "cell_type": "code",
   "execution_count": 38,
   "metadata": {},
   "outputs": [],
   "source": [
    "# can then calculate the author's correspondence to a single \"vibe\"\n",
    "# given a list of stop terms to ignore (\"the\", \"of\", \"at\",...)\n",
    "# and a vibe that must correspond to one of filenames in scivibes/subreddits/\n",
    "\n",
    "stop_terms = open(\"scivibes/stopwords.txt\",'r').read().splitlines()\n",
    "\n",
    "# NOTE: the \"vibe\" output is not bounded and so can't be renormalized to an absolute scale\n",
    "# vibes can only be relative \n",
    "\n",
    "one_vibe = scivibes.vibe_check(new_wordlist, stop_terms, \"anime\")"
   ]
  },
  {
   "cell_type": "code",
   "execution_count": 39,
   "metadata": {},
   "outputs": [
    {
     "name": "stdout",
     "output_type": "stream",
     "text": [
      "[('anime', 97), ('musical', 134), ('science', 193)]\n",
      "[('cringe', -47), ('wholesome', -12), ('Tumblr', -10)]\n"
     ]
    }
   ],
   "source": [
    "# can also return top and bottom three vibes for a given author:\n",
    "\n",
    "\n",
    "# grab all the subreddit names,\n",
    "subreddits = [os.path.basename(x[:-4]) for x in glob.glob('scivibes/subreddits/*.tsv')]\n",
    "    \n",
    "# dictionary of subreddits to vibes,\n",
    "reddit2vibe = json.load(open(\"scivibes/reddit2vibe.txt\"))\n",
    "\n",
    "[most, least] = scivibes.total_vibe_check(new_wordlist, stop_terms, subreddits, reddit2vibe)\n",
    "\n",
    "print(most)\n",
    "print(least)"
   ]
  },
  {
   "cell_type": "code",
   "execution_count": null,
   "metadata": {},
   "outputs": [],
   "source": []
  }
 ],
 "metadata": {
  "kernelspec": {
   "display_name": "Python 3.10.4 ('codeastro')",
   "language": "python",
   "name": "python3"
  },
  "language_info": {
   "codemirror_mode": {
    "name": "ipython",
    "version": 3
   },
   "file_extension": ".py",
   "mimetype": "text/x-python",
   "name": "python",
   "nbconvert_exporter": "python",
   "pygments_lexer": "ipython3",
   "version": "3.10.4"
  },
  "orig_nbformat": 4,
  "vscode": {
   "interpreter": {
    "hash": "9d14102eb213a542ddf53f5d67689adbd53d59718896eaf8afc797eb419f0899"
   }
  }
 },
 "nbformat": 4,
 "nbformat_minor": 2
}
