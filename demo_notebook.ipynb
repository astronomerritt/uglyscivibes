{
 "cells": [
  {
   "cell_type": "code",
   "execution_count": null,
   "metadata": {},
   "outputs": [],
   "source": [
    "import string\n",
    "import ads\n",
    "import scivibes\n",
    "import glob\n",
    "import json\n",
    "import cairo\n",
    "import copy\n",
    "import math\n",
    "import random"
   ]
  },
  {
   "cell_type": "code",
   "execution_count": null,
   "metadata": {},
   "outputs": [],
   "source": [
    "# please put your own ADS API token here :)\n",
    "ads.config.token = 'tVMB0TgzQmmwxI6q3TfSrNRMqis5KmvK5C2nDq7s'"
   ]
  },
  {
   "cell_type": "code",
   "execution_count": null,
   "metadata": {},
   "outputs": [],
   "source": [
    "# this is the ORCID of the author you want the vibes for\n",
    "author_ORCID = \"0000-0001-5930-2829\""
   ]
  },
  {
   "cell_type": "code",
   "execution_count": null,
   "metadata": {},
   "outputs": [],
   "source": [
    "# this gets a list of all words in all abstracts with that author\n",
    "# if the author has a lot of papers this will take a while :)\n",
    "paper_list = scivibes.get_papers(author_ORCID)\n",
    "new_wordlist = scivibes.get_abstract_words(paper_list)"
   ]
  },
  {
   "cell_type": "code",
   "execution_count": null,
   "metadata": {},
   "outputs": [],
   "source": [
    "# can then calculate the author's correspondence to a single \"vibe\"\n",
    "# given a list of stop terms to ignore (\"the\", \"of\", \"at\",...)\n",
    "# and a vibe that must correspond to one of filenames in scivibes/subreddits/\n",
    "\n",
    "stop_terms = open(\"scivibes/stopwords.txt\",'r').read().splitlines()\n",
    "\n",
    "# NOTE: the \"vibe\" output is not bounded and so can't be renormalized to an absolute scale\n",
    "# vibes can only be relative \n",
    "\n",
    "one_vibe = scivibes.vibe_check(new_wordlist, stop_terms, \"anime\")"
   ]
  },
  {
   "cell_type": "code",
   "execution_count": null,
   "metadata": {},
   "outputs": [],
   "source": [
    "# can also return top and bottom three vibes for a given author:\n",
    "\n",
    "\n",
    "# grab all the subreddit names,\n",
    "subreddits = [os.path.basename(x[:-4]) for x in glob.glob('scivibes/subreddits/*.tsv')]\n",
    "    \n",
    "# dictionary of subreddits to vibes,\n",
    "reddit2vibe = json.load(open(\"scivibes/reddit2vibe.txt\"))\n",
    "\n",
    "[most, least] = scivibes.total_vibe_check(new_wordlist, stop_terms, subreddits, reddit2vibe)\n",
    "\n",
    "print(most)\n",
    "print(least)"
   ]
  },
  {
   "cell_type": "code",
   "execution_count": null,
   "metadata": {},
   "outputs": [],
   "source": [
    "#generate vibe plots\n",
    "scivibes.view_vibes([most,least],\"Example\")"
   ]
  }
 ],
 "metadata": {
  "kernelspec": {
   "display_name": "Python 3.10.4 ('codeastro')",
   "language": "python",
   "name": "python3"
  },
  "language_info": {
   "codemirror_mode": {
    "name": "ipython",
    "version": 3
   },
   "file_extension": ".py",
   "mimetype": "text/x-python",
   "name": "python",
   "nbconvert_exporter": "python",
   "pygments_lexer": "ipython3",
   "version": "3.10.4"
  },
  "orig_nbformat": 4,
  "vscode": {
   "interpreter": {
    "hash": "304d8819a21e459bc0d3068e5c6eeb243ded4f3895e9682b7a93012a798ad6c8"
   }
  }
 },
 "nbformat": 4,
 "nbformat_minor": 2
}
