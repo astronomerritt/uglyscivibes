{
 "cells": [
  {
   "cell_type": "code",
   "execution_count": 36,
   "metadata": {},
   "outputs": [],
   "source": [
    "import string\n",
    "import ads\n",
    "import scivibes\n",
    "import glob\n",
    "import json\n",
    "import cairo\n",
    "import copy\n",
    "import math\n",
    "import random"
   ]
  },
  {
   "cell_type": "code",
   "execution_count": 37,
   "metadata": {},
   "outputs": [],
   "source": [
    "# please put your own ADS API token here :)\n",
    "ads.config.token = 'tVMB0TgzQmmwxI6q3TfSrNRMqis5KmvK5C2nDq7s'"
   ]
  },
  {
   "cell_type": "code",
   "execution_count": 38,
   "metadata": {},
   "outputs": [],
   "source": [
    "# this is the ORCID of the author you want the vibes for\n",
    "author_ORCID = \"0000-0003-4504-1677\""
   ]
  },
  {
   "cell_type": "code",
   "execution_count": 39,
   "metadata": {},
   "outputs": [
    {
     "name": "stderr",
     "output_type": "stream",
     "text": [
      "/usr/local/anaconda3/envs/codeastro/lib/python3.10/site-packages/ads/utils.py:26: UserWarning: You are lazy loading attributes via 'abstract', and so are making multiple calls to the API. This will impact your overall rate limits.\n",
      "  warnings.warn(\n"
     ]
    }
   ],
   "source": [
    "# this gets a list of all words in all abstracts with that author\n",
    "# if the author has a lot of papers this will take a while :)\n",
    "abstract_list = scivibes.get_abstracts(author_ORCID)\n",
    "new_wordlist = scivibes.get_abstract_words(abstract_list)"
   ]
  },
  {
   "cell_type": "code",
   "execution_count": 40,
   "metadata": {},
   "outputs": [],
   "source": [
    "# can then calculate the author's correspondence to a single \"vibe\"\n",
    "# given a list of stop terms to ignore (\"the\", \"of\", \"at\",...)\n",
    "# and a vibe that must correspond to one of filenames in scivibes/subreddits/\n",
    "\n",
    "stop_terms = open(\"scivibes/stopwords.txt\",'r').read().splitlines()\n",
    "\n",
    "# NOTE: the \"vibe\" output is not bounded and so can't be renormalized to an absolute scale\n",
    "# vibes can only be relative \n",
    "\n",
    "one_vibe = scivibes.vibe_check(new_wordlist, stop_terms, \"anime\")"
   ]
  },
  {
   "cell_type": "code",
   "execution_count": 41,
   "metadata": {},
   "outputs": [
    {
     "name": "stdout",
     "output_type": "stream",
     "text": [
      "[('cursed', 29), ('gamer', 43), ('skater', 52)]\n",
      "[('geeky', -30), ('anime', -16), ('jock', -15)]\n"
     ]
    }
   ],
   "source": [
    "# can also return top and bottom three vibes for a given author:\n",
    "\n",
    "\n",
    "# grab all the subreddit names,\n",
    "subreddits = [os.path.basename(x[:-4]) for x in glob.glob('scivibes/subreddits/*.tsv')]\n",
    "    \n",
    "# dictionary of subreddits to vibes,\n",
    "reddit2vibe = json.load(open(\"scivibes/reddit2vibe.txt\"))\n",
    "\n",
    "[most, least] = scivibes.total_vibe_check(new_wordlist, stop_terms, subreddits, reddit2vibe)\n",
    "\n",
    "print(most)\n",
    "print(least)"
   ]
  },
  {
   "cell_type": "code",
   "execution_count": 17,
   "metadata": {},
   "outputs": [
    {
     "ename": "KeyError",
     "evalue": "'skater'",
     "output_type": "error",
     "traceback": [
      "\u001b[0;31m---------------------------------------------------------------------------\u001b[0m",
      "\u001b[0;31mKeyError\u001b[0m                                  Traceback (most recent call last)",
      "\u001b[1;32m/Users/lunazagor/Code/GitHub/scivibes/demo_notebook.ipynb Cell 7'\u001b[0m in \u001b[0;36m<cell line: 2>\u001b[0;34m()\u001b[0m\n\u001b[1;32m      <a href='vscode-notebook-cell:/Users/lunazagor/Code/GitHub/scivibes/demo_notebook.ipynb#ch0000006?line=0'>1</a>\u001b[0m \u001b[39m# generate vibe plots\u001b[39;00m\n\u001b[0;32m----> <a href='vscode-notebook-cell:/Users/lunazagor/Code/GitHub/scivibes/demo_notebook.ipynb#ch0000006?line=1'>2</a>\u001b[0m scivibes\u001b[39m.\u001b[39;49mview_vibes([most,least], \u001b[39m\"\u001b[39;49m\u001b[39mExample\u001b[39;49m\u001b[39m\"\u001b[39;49m)\n",
      "File \u001b[0;32m~/Code/GitHub/scivibes/scivibes/watercolor.py:187\u001b[0m, in \u001b[0;36mview_vibes\u001b[0;34m(vibe_score, name)\u001b[0m\n\u001b[1;32m    184\u001b[0m cr\u001b[39m.\u001b[39mset_line_width(\u001b[39m1\u001b[39m)\n\u001b[1;32m    186\u001b[0m \u001b[39m# selecting vibe colors\u001b[39;00m\n\u001b[0;32m--> 187\u001b[0m vibe_1, vibe_2, vibe_3, vibe_4, vibe_5, vibe_6 \u001b[39m=\u001b[39m color_picker(vibe_score)\n\u001b[1;32m    189\u001b[0m colors \u001b[39m=\u001b[39m [\u001b[39mlist\u001b[39m(vibe_1), \u001b[39mlist\u001b[39m(vibe_2), \u001b[39mlist\u001b[39m(vibe_3)]\n\u001b[1;32m    190\u001b[0m anti_colors \u001b[39m=\u001b[39m [\u001b[39mlist\u001b[39m(vibe_4), \u001b[39mlist\u001b[39m(vibe_5), \u001b[39mlist\u001b[39m(vibe_6)]\n",
      "File \u001b[0;32m~/Code/GitHub/scivibes/scivibes/watercolor.py:42\u001b[0m, in \u001b[0;36mcolor_picker\u001b[0;34m(vibe_score)\u001b[0m\n\u001b[1;32m     40\u001b[0m \u001b[39m#selecting the appropriate colors for each vibe\u001b[39;00m\n\u001b[1;32m     41\u001b[0m c_1 \u001b[39m=\u001b[39m color_samples[vibe_score[\u001b[39m0\u001b[39m][\u001b[39m0\u001b[39m][\u001b[39m0\u001b[39m]][\u001b[39m'\u001b[39m\u001b[39mHigh\u001b[39m\u001b[39m'\u001b[39m]\n\u001b[0;32m---> 42\u001b[0m c_2 \u001b[39m=\u001b[39m color_samples[vibe_score[\u001b[39m0\u001b[39;49m][\u001b[39m1\u001b[39;49m][\u001b[39m0\u001b[39;49m]][\u001b[39m'\u001b[39m\u001b[39mMed\u001b[39m\u001b[39m'\u001b[39m]\n\u001b[1;32m     43\u001b[0m c_3 \u001b[39m=\u001b[39m color_samples[vibe_score[\u001b[39m0\u001b[39m][\u001b[39m2\u001b[39m][\u001b[39m0\u001b[39m]][\u001b[39m'\u001b[39m\u001b[39mLow\u001b[39m\u001b[39m'\u001b[39m]\n\u001b[1;32m     45\u001b[0m \u001b[39m#selecting the appropriate colors for each antivibe\u001b[39;00m\n",
      "\u001b[0;31mKeyError\u001b[0m: 'skater'"
     ]
    }
   ],
   "source": [
    "# generate vibe plots\n",
    "scivibes.view_vibes([most,least], \"Example\")"
   ]
  },
  {
   "cell_type": "code",
   "execution_count": null,
   "metadata": {},
   "outputs": [],
   "source": []
  }
 ],
 "metadata": {
  "kernelspec": {
   "display_name": "Python 3.10.4 ('codeastro')",
   "language": "python",
   "name": "python3"
  },
  "language_info": {
   "codemirror_mode": {
    "name": "ipython",
    "version": 3
   },
   "file_extension": ".py",
   "mimetype": "text/x-python",
   "name": "python",
   "nbconvert_exporter": "python",
   "pygments_lexer": "ipython3",
   "version": "3.10.4"
  },
  "orig_nbformat": 4,
  "vscode": {
   "interpreter": {
    "hash": "9d14102eb213a542ddf53f5d67689adbd53d59718896eaf8afc797eb419f0899"
   }
  }
 },
 "nbformat": 4,
 "nbformat_minor": 2
}
