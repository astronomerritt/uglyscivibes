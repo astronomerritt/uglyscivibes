{
 "cells": [
  {
   "cell_type": "code",
   "execution_count": 1,
   "metadata": {},
   "outputs": [],
   "source": [
    "import string\n",
    "import ads\n",
    "from absvibes import get_abstract_words"
   ]
  },
  {
   "cell_type": "code",
   "execution_count": 2,
   "metadata": {},
   "outputs": [],
   "source": [
    "# please put your own ADS API token here :)\n",
    "ads.config.token = 'tVMB0TgzQmmwxI6q3TfSrNRMqis5KmvK5C2nDq7s'"
   ]
  },
  {
   "cell_type": "code",
   "execution_count": 3,
   "metadata": {},
   "outputs": [],
   "source": [
    "# this is the ORCID of the author you want the vibes for\n",
    "author_ORCID = \"0000-0003-4365-1455\""
   ]
  },
  {
   "cell_type": "code",
   "execution_count": 4,
   "metadata": {},
   "outputs": [
    {
     "name": "stderr",
     "output_type": "stream",
     "text": [
      "/opt/miniconda3/envs/codeastro/lib/python3.10/site-packages/ads/utils.py:26: UserWarning: You are lazy loading attributes via 'abstract', and so are making multiple calls to the API. This will impact your overall rate limits.\n",
      "  warnings.warn(\n"
     ]
    }
   ],
   "source": [
    "# this gets a list of all words in all abstracts with that author\n",
    "# if the author has a lot of papers this will take a while :)\n",
    "new_wordlist = get_abstract_words(author_ORCID)"
   ]
  },
  {
   "cell_type": "code",
   "execution_count": 6,
   "metadata": {},
   "outputs": [
    {
     "data": {
      "text/plain": [
       "5470"
      ]
     },
     "execution_count": 6,
     "metadata": {},
     "output_type": "execute_result"
    }
   ],
   "source": [
    "len(new_wordlist)"
   ]
  },
  {
   "cell_type": "code",
   "execution_count": null,
   "metadata": {},
   "outputs": [],
   "source": []
  }
 ],
 "metadata": {
  "kernelspec": {
   "display_name": "Python 3.10.4 ('codeastro')",
   "language": "python",
   "name": "python3"
  },
  "language_info": {
   "codemirror_mode": {
    "name": "ipython",
    "version": 3
   },
   "file_extension": ".py",
   "mimetype": "text/x-python",
   "name": "python",
   "nbconvert_exporter": "python",
   "pygments_lexer": "ipython3",
   "version": "3.10.4"
  },
  "orig_nbformat": 4,
  "vscode": {
   "interpreter": {
    "hash": "304d8819a21e459bc0d3068e5c6eeb243ded4f3895e9682b7a93012a798ad6c8"
   }
  }
 },
 "nbformat": 4,
 "nbformat_minor": 2
}
