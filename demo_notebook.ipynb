{
 "cells": [
  {
   "cell_type": "code",
   "execution_count": 1,
   "metadata": {},
   "outputs": [],
   "source": [
    "import os\n",
    "import ads\n",
    "import scivibes\n",
    "import glob\n",
    "import json"
   ]
  },
  {
   "cell_type": "code",
   "execution_count": 2,
   "metadata": {},
   "outputs": [],
   "source": [
    "# please put your own ADS API token here :)\n",
    "ads.config.token = 'tVMB0TgzQmmwxI6q3TfSrNRMqis5KmvK5C2nDq7s'"
   ]
  },
  {
   "cell_type": "code",
   "execution_count": 3,
   "metadata": {},
   "outputs": [],
   "source": [
    "# this is the ORCID of the author you want the vibes for\n",
    "author_ORCID = \"0000-0002-0244-6650\""
   ]
  },
  {
   "cell_type": "code",
   "execution_count": 4,
   "metadata": {},
   "outputs": [
    {
     "name": "stderr",
     "output_type": "stream",
     "text": [
      "/opt/miniconda3/envs/codeastro/lib/python3.10/site-packages/ads/utils.py:26: UserWarning: You are lazy loading attributes via 'abstract', and so are making multiple calls to the API. This will impact your overall rate limits.\n",
      "  warnings.warn(\n"
     ]
    }
   ],
   "source": [
    "# this gets a list of all words in all abstracts with that author\n",
    "# if the author has a lot of papers this will take a while :)\n",
    "abstract_list = scivibes.get_abstracts(author_ORCID)\n",
    "new_wordlist = scivibes.get_abstract_words(abstract_list)"
   ]
  },
  {
   "cell_type": "code",
   "execution_count": 5,
   "metadata": {},
   "outputs": [],
   "source": [
    "# can then calculate the author's correspondence to a single \"vibe\"\n",
    "# given a list of stop terms to ignore (\"the\", \"of\", \"at\",...)\n",
    "# and a vibe that must correspond to one of filenames in scivibes/subreddits/\n",
    "\n",
    "stop_terms = open(\"scivibes/stopwords.txt\",'r').read().splitlines()\n",
    "\n",
    "# NOTE: the \"vibe\" output is not bounded and so can't be renormalized to an absolute scale\n",
    "# vibes can only be relative \n",
    "\n",
    "one_vibe = scivibes.vibe_check(new_wordlist, stop_terms, \"anime\")"
   ]
  },
  {
   "cell_type": "code",
   "execution_count": 6,
   "metadata": {},
   "outputs": [
    {
     "name": "stdout",
     "output_type": "stream",
     "text": [
      "[('skater', 9), ('Disney', 10), ('anime', 24)]\n",
      "[('anarcho-capitalist', -19), ('cute', -10), ('cursed', -9)]\n",
      "[('anarcho-capitalist', -19), ('cute', -10), ('cursed', -9), ('jock', -6), ('musical', -5), ('random', -4), ('fantasy', 4), ('geeky', 4), ('gamer', 5), ('British', 5), ('funny', 5), ('dramatic', 6), ('skater', 9), ('Disney', 10), ('anime', 24)]\n"
     ]
    }
   ],
   "source": [
    "# can also return top and bottom three vibes for a given author:\n",
    "\n",
    "\n",
    "# grab all the subreddit names,\n",
    "subreddits = [os.path.basename(x[:-4]) for x in glob.glob('scivibes/subreddits/*.tsv')]\n",
    "    \n",
    "# dictionary of subreddits to vibes,\n",
    "reddit2vibe = json.load(open(\"scivibes/reddit2vibe.txt\"))\n",
    "\n",
    "tot_vibes = scivibes.total_vibe_check(new_wordlist, stop_terms, subreddits, reddit2vibe)\n",
    "\n",
    "least = tot_vibes[0:3]\n",
    "most = tot_vibes[-3:]\n",
    "print(most)\n",
    "print(least)\n",
    "print(tot_vibes)"
   ]
  },
  {
   "cell_type": "code",
   "execution_count": 7,
   "metadata": {},
   "outputs": [
    {
     "data": {
      "image/png": "[encoded data removed]",
      "text/plain": [
       "<Figure size 1152x576 with 1 Axes>"
      ]
     },
     "metadata": {
      "needs_background": "light"
     },
     "output_type": "display_data"
    }
   ],
   "source": [
    "# a handy histogram of vibes\n",
    "fig, ax = scivibes.plot_vibestogram(tot_vibes)"
   ]
  },
  {
   "cell_type": "code",
   "execution_count": null,
   "metadata": {},
   "outputs": [],
   "source": []
  }
 ],
 "metadata": {
  "kernelspec": {
   "display_name": "Python 3.10.4 ('codeastro')",
   "language": "python",
   "name": "python3"
  },
  "language_info": {
   "codemirror_mode": {
    "name": "ipython",
    "version": 3
   },
   "file_extension": ".py",
   "mimetype": "text/x-python",
   "name": "python",
   "nbconvert_exporter": "python",
   "pygments_lexer": "ipython3",
   "version": "3.10.4"
  },
  "orig_nbformat": 4,
  "vscode": {
   "interpreter": {
    "hash": "304d8819a21e459bc0d3068e5c6eeb243ded4f3895e9682b7a93012a798ad6c8"
   }
  }
 },
 "nbformat": 4,
 "nbformat_minor": 2
}
